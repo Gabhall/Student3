{
 "cells": [
  {
   "cell_type": "markdown",
   "metadata": {},
   "source": [
    "---\n",
    "toc: true\n",
    "comments: true\n",
    "layout: post\n",
    "title: Js Input\n",
    "description:  This is my Js Input\n",
    "courses: { compsci: {week: 1} }\n",
    "type: hacks\n",
    "---"
   ]
  },
  {
   "cell_type": "code",
   "execution_count": null,
   "metadata": {},
   "outputs": [],
   "source": [
    "def calculate_grade(score):\n",
    "    if score >= 90:\n",
    "        return \"A\"\n",
    "    elif score >= 80:\n",
    "        return \"B\"\n",
    "    elif score >= 70:\n",
    "        return \"C\"\n",
    "    elif score >= 60:\n",
    "        return \"D\"\n",
    "    else:\n",
    "        return \"F\"\n",
    "\n",
    "try:\n",
    "    score = float(input(\"Enter the numerical score: \"))\n",
    "    if 0 <= score <= 100:\n",
    "        grade = calculate_grade(score)\n",
    "        print(f\"Grade: {grade}\")\n",
    "    else:\n",
    "        print(\"Invalid score. Please enter a score between 0 and 100.\")\n",
    "except ValueError:\n",
    "    print(\"Invalid input. Please enter a numerical score.\")\n"
   ]
  },
  {
   "cell_type": "markdown",
   "metadata": {},
   "source": [
    "It defines a calculate_grade function that takes a numerical score as an argument and returns the corresponding grade based on the grading scale.\n",
    "\n",
    "It prompts the user to enter a numerical score using the input function and converts the input to a floating-point number.\n",
    "\n",
    "It checks if the entered score is within the valid range (between 0 and 100).\n",
    "\n",
    "If the score is valid, it calls the calculate_grade function to determine the grade and then prints the grade.\n",
    "\n",
    "If the score is not valid (outside the range or not a numerical value), it displays an appropriate error message.\n",
    "\n",
    "You can run this Python script in your preferred Python environment to calculate grades based on numerical scores. You can also customize the grading scale in the calculate_grade function to match your specific grading criteria.\n"
   ]
  },
  {
   "cell_type": "code",
   "execution_count": null,
   "metadata": {},
   "outputs": [],
   "source": [
    "def calculate_grade(score):\n",
    "    if score >= 90:\n",
    "        return \"A\"\n",
    "    elif score >= 80:\n",
    "        return \"B\"\n",
    "    elif score >= 70:\n",
    "        return \"C\"\n",
    "    elif score >= 60:\n",
    "        return \"D\"\n",
    "    else:\n",
    "        return \"F\"\n",
    "\n",
    "def calculate_average_grade(scores):\n",
    "    total_score = sum(scores)\n",
    "    average_score = total_score / len(scores)\n",
    "    return calculate_grade(average_score)\n",
    "\n",
    "try:\n",
    "    num_scores = int(input(\"Enter the number of scores: \"))\n",
    "    scores = []\n",
    "    \n",
    "    for i in range(num_scores):\n",
    "        score = float(input(f\"Enter score {i+1}: \"))\n",
    "        scores.append(score)\n",
    "\n",
    "    average_grade = calculate_average_grade(scores)\n",
    "    print(f\"Average Grade: {average_grade}\")\n",
    "except ValueError:\n",
    "    print(\"Invalid input. Please enter numerical scores.\")\n"
   ]
  },
  {
   "cell_type": "markdown",
   "metadata": {},
   "source": [
    "We define the calculate_grade function as before to calculate the grade for a single score.\n",
    "\n",
    "We define a new function calculate_average_grade that takes a list of scores, calculates the average score, and then determines the average grade using the calculate_grade function.\n",
    "\n",
    "We prompt the user to enter the number of scores they want to calculate.\n",
    "\n",
    "We use a loop to collect the individual scores from the user and store them in a list.\n",
    "\n",
    "Finally, we calculate the average grade based on the entered scores and display it.\n",
    "\n",
    "This script allows you to calculate the average grade for multiple scores and provides flexibility for different grading scenarios.\n"
   ]
  },
  {
   "cell_type": "code",
   "execution_count": null,
   "metadata": {},
   "outputs": [],
   "source": [
    "def calculate_grade(score):\n",
    "    if 90 <= score <= 100:\n",
    "        return \"A\"\n",
    "    elif 80 <= score < 90:\n",
    "        return \"B\"\n",
    "    elif 70 <= score < 80:\n",
    "        return \"C\"\n",
    "    elif 60 <= score < 70:\n",
    "        return \"D\"\n",
    "    else:\n",
    "        return \"F\"\n",
    "\n",
    "def calculate_student_grades(students):\n",
    "    grades = {}\n",
    "    for student, score in students.items():\n",
    "        grade = calculate_grade(score)\n",
    "        grades[student] = grade\n",
    "    return grades\n",
    "\n",
    "try:\n",
    "    num_students = int(input(\"Enter the number of students: \"))\n",
    "    student_scores = {}\n",
    "\n",
    "    for i in range(num_students):\n",
    "        student_name = input(f\"Enter the name of student {i+1}: \")\n",
    "        student_score = float(input(f\"Enter the score for {student_name}: \"))\n",
    "        student_scores[student_name] = student_score\n",
    "\n",
    "    student_grades = calculate_student_grades(student_scores)\n",
    "\n",
    "    print(\"\\nStudent Grades:\")\n",
    "    for student, grade in student_grades.items():\n",
    "        print(f\"{student}: {grade}\")\n",
    "except ValueError:\n",
    "    print(\"Invalid input. Please enter numerical scores.\")\n"
   ]
  },
  {
   "cell_type": "markdown",
   "metadata": {},
   "source": [
    "We define the calculate_grade function as before to calculate the grade for a single score.\n",
    "\n",
    "We define a new function calculate_student_grades that takes a dictionary of students and their scores, calculates the grades for each student, and returns a dictionary of student grades.\n",
    "\n",
    "We prompt the user to enter the number of students they want to calculate.\n",
    "\n",
    "We use a loop to collect the names and scores of each student and store them in a dictionary.\n",
    "\n",
    "Finally, we calculate and display the grades for each student.\n",
    "\n",
    "This script allows you to calculate and display grades for multiple students based on their scores.\n"
   ]
  }
 ],
 "metadata": {
  "language_info": {
   "name": "python"
  },
  "orig_nbformat": 4
 },
 "nbformat": 4,
 "nbformat_minor": 2
}
