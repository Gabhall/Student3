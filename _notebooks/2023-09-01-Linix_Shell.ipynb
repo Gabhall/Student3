{
 "cells": [
  {
   "cell_type": "markdown",
   "metadata": {},
   "source": [
    "---\n",
    "toc: true\n",
    "comments: true\n",
    "layout: post\n",
    "title: Linix notebook\n",
    "description:  This is  my Linix notebook\n",
    "courses: { compsci: {week: 1} }\n",
    "type: hacks\n",
    "---"
   ]
  },
  {
   "cell_type": "code",
   "execution_count": null,
   "metadata": {},
   "outputs": [],
   "source": [
    "#!/bin/bash\n",
    "\n",
    "# Prompt the user for input\n",
    "echo \"Enter the first number:\"\n",
    "read num1\n",
    "\n",
    "echo \"Enter the second number:\"\n",
    "read num2\n",
    "\n",
    "# Perform the addition\n",
    "sum=$((num1 + num2))\n",
    "\n",
    "# Display the result\n",
    "echo \"The sum of $num1 and $num2 is: $sum\"\n"
   ]
  },
  {
   "cell_type": "markdown",
   "metadata": {},
   "source": [
    "This line is called a shebang (#!). It tells the system which interpreter to use for executing the script. In this case, it specifies that the Bash shell (/bin/bash) should be used.\n"
   ]
  }
 ],
 "metadata": {
  "language_info": {
   "name": "python"
  },
  "orig_nbformat": 4
 },
 "nbformat": 4,
 "nbformat_minor": 2
}
